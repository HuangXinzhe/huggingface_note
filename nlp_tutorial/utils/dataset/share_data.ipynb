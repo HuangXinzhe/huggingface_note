{
 "cells": [
  {
   "cell_type": "code",
   "execution_count": null,
   "metadata": {},
   "outputs": [],
   "source": [
    "from datasets import Dataset, DatasetDict\n",
    "\n",
    "# 假设你的数据集是一个字典列表\n",
    "train_dataset = {'text': ['I love pizza.', 'I hate pizza.'], 'label': [1, 0]}\n",
    "validation_dataset = {'text': ['I love pizza.', 'I hate pizza.'], 'label': [1, 0]}\n",
    "test_dataset = {'text': ['I love pizza.', 'I hate pizza.'], 'label': [1, 0]}\n",
    "\n",
    "# 如果你有训练集、验证集和测试集，你可以这样做：\n",
    "dataset = DatasetDict({\n",
    "    'train': Dataset.from_dict(train_dataset),\n",
    "    'validation': Dataset.from_dict(validation_dataset),\n",
    "    'test': Dataset.from_dict(test_dataset)\n",
    "})\n",
    "\n",
    "# 保存数据集\n",
    "dataset.save_to_disk('./dataset')\n",
    "\n",
    "# huggingface-cli login\n",
    "dataset.push_to_hub(\"snowfly/processed_demo\")"
   ]
  }
 ],
 "metadata": {
  "language_info": {
   "name": "python"
  }
 },
 "nbformat": 4,
 "nbformat_minor": 2
}
