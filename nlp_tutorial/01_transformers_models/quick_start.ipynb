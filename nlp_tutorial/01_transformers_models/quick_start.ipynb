{
 "cells": [
  {
   "cell_type": "code",
   "execution_count": null,
   "metadata": {},
   "outputs": [],
   "source": [
    "from transformers import pipeline"
   ]
  },
  {
   "cell_type": "markdown",
   "metadata": {},
   "source": [
    "## pipeline\n",
    "pipeline()函数将模型与其必要的预处理和后处理步骤连接起来，能够通过直接输入任何文本并获得最终的答案"
   ]
  },
  {
   "cell_type": "markdown",
   "metadata": {},
   "source": [
    "将一些文本传递到pipeline时涉及三个主要步骤：\n",
    "- 文本被预处理为模型可以理解的格式。\n",
    "- 预处理的输入被传递给模型。\n",
    "- 模型处理后输出最终人类可以理解的结果。"
   ]
  },
  {
   "cell_type": "code",
   "execution_count": null,
   "metadata": {},
   "outputs": [],
   "source": [
    "# 一次只输入一个数据\n",
    "classifier = pipeline(\"sentiment-analysis\")  # 设置需要完成的任务\n",
    "answer = classifier(\n",
    "    \"I've been waiting for a HuggingFace course my whole life.\")\n",
    "print(answer)\n",
    "\"\"\"\n",
    "[{'label': 'POSITIVE', 'score': 0.9598047137260437}]\n",
    "\"\"\""
   ]
  },
  {
   "cell_type": "code",
   "execution_count": null,
   "metadata": {},
   "outputs": [],
   "source": [
    "# 一次只输入多个数据\n",
    "answer = classifier(\n",
    "    [\"I've been waiting for a HuggingFace course my whole life.\", \n",
    "     \"I hate this so much!\"]\n",
    ")\n",
    "print(answer)\n",
    "\"\"\"\n",
    "[{'label': 'POSITIVE', 'score': 0.9598047137260437},\n",
    " {'label': 'NEGATIVE', 'score': 0.9994558095932007}]\n",
    "\"\"\""
   ]
  },
  {
   "cell_type": "markdown",
   "metadata": {},
   "source": [
    "## 零样本分类（zero-shot）\n",
    "不需要对数据上的模型进行微调即可使用它。它可以直接返回您想要的任何标签列表的概率分数"
   ]
  },
  {
   "cell_type": "code",
   "execution_count": null,
   "metadata": {},
   "outputs": [],
   "source": [
    "classifier = pipeline(\"zero-shot-classification\")\n",
    "answer = classifier(\n",
    "    \"This is a course about the Transformers library\",\n",
    "    candidate_labels=[\"education\", \"politics\", \"business\"],\n",
    ")\n",
    "print(answer)\n",
    "\"\"\"\n",
    "{'sequence': 'This is a course about the Transformers library',\n",
    " 'labels': ['education', 'business', 'politics'],\n",
    " 'scores': [0.8445963859558105, 0.111976258456707, 0.043427448719739914]}\n",
    "\"\"\""
   ]
  },
  {
   "cell_type": "markdown",
   "metadata": {},
   "source": [
    "## 文本生成（text generation）"
   ]
  },
  {
   "cell_type": "code",
   "execution_count": null,
   "metadata": {},
   "outputs": [],
   "source": [
    "generator = pipeline(\"text-generation\")\n",
    "answer = generator(\"In this course, we will teach you how to\",\n",
    "                   num_return_sequences=2,\n",
    "                   max_length=15)  # 生成2个句子，每个句子最大长队15\n",
    "print(answer)"
   ]
  },
  {
   "cell_type": "code",
   "execution_count": null,
   "metadata": {},
   "outputs": [],
   "source": [
    "generator = pipeline(\"text-generation\", model=\"distilgpt2\")  # model可以指定想要使用的模型\n",
    "answer = generator(\n",
    "    \"In this course, we will teach you how to\",\n",
    "    max_length=30,\n",
    "    num_return_sequences=2,\n",
    ")\n",
    "print(answer)"
   ]
  },
  {
   "cell_type": "markdown",
   "metadata": {},
   "source": [
    "## mask filling\n",
    "填充给定文本中的空白  \n",
    "\n",
    "注意：模型填充了特殊的< mask >词，它通常被称为掩码标记。其他掩码填充模型可能有不同的掩码标记。"
   ]
  },
  {
   "cell_type": "code",
   "execution_count": null,
   "metadata": {},
   "outputs": [],
   "source": [
    "unmasker = pipeline(\"fill-mask\")\n",
    "answer = unmasker(\n",
    "    \"This course will teach you all about <mask> models.\",  # 其中的一个词被mask掉了，不同的模型mask的方式不同\n",
    "    top_k=2  # 返回两种可能性答案\n",
    ")\n",
    "print(answer)"
   ]
  },
  {
   "cell_type": "markdown",
   "metadata": {},
   "source": [
    "## 命名实体识别（NER）"
   ]
  },
  {
   "cell_type": "code",
   "execution_count": null,
   "metadata": {},
   "outputs": [],
   "source": [
    "# grouped_entities=True是对属于同一个实体的重新组合\n",
    "ner = pipeline(\"ner\", \n",
    "               grouped_entities=True,\n",
    "               model=\"StanfordAIMI/stanford-deidentifier-base\")\n",
    "answer = ner(\"My name is Sylvain and I work at Hugging Face in Brooklyn.\")\n",
    "print(answer)"
   ]
  },
  {
   "cell_type": "markdown",
   "metadata": {},
   "source": [
    "## 问答系统\n",
    "使用来自给定上下文的信息回答问题"
   ]
  },
  {
   "cell_type": "code",
   "execution_count": null,
   "metadata": {},
   "outputs": [],
   "source": [
    "question_answerer = pipeline(\"question-answering\")\n",
    "answer = question_answerer(\n",
    "    question=\"Where do I work?\",\n",
    "    context=\"My name is Sylvain and I work at Hugging Face in Brooklyn\",\n",
    ")\n",
    "print(answer)\n",
    "\"\"\"\n",
    "{'score': 0.6385916471481323, 'start': 33, 'end': 45, 'answer': 'Hugging Face'}\n",
    "klyn\",\n",
    ")\n",
    "\"\"\""
   ]
  },
  {
   "cell_type": "markdown",
   "metadata": {},
   "source": [
    "## 文本摘要\n",
    "可以指定结果的 max_length 或 min_length"
   ]
  },
  {
   "cell_type": "code",
   "execution_count": null,
   "metadata": {},
   "outputs": [],
   "source": [
    "summarizer = pipeline(\"summarization\")\n",
    "# max_length或min_length控制文本摘要长短\n",
    "answer = summarizer(\n",
    "    \"\"\"\n",
    "    America has changed dramatically during recent years. Not only has the number of \n",
    "    graduates in traditional engineering disciplines such as mechanical, civil, \n",
    "    electrical, chemical, and aeronautical engineering declined, but in most of \n",
    "    the premier American universities engineering curricula now concentrate on \n",
    "    and encourage largely the study of engineering science. As a result, there \n",
    "    are declining offerings in engineering subjects dealing with infrastructure, \n",
    "    the environment, and related issues, and greater concentration on high \n",
    "    technology subjects, largely supporting increasingly complex scientific \n",
    "    developments. While the latter is important, it should not be at the expense \n",
    "    of more traditional engineering.\n",
    "\n",
    "    Rapidly developing economies such as China and India, as well as other \n",
    "    industrial countries in Europe and Asia, continue to encourage and advance \n",
    "    the teaching of engineering. Both China and India, respectively, graduate \n",
    "    six and eight times as many traditional engineers as does the United States. \n",
    "    Other industrial countries at minimum maintain their output, while America \n",
    "    suffers an increasingly serious decline in the number of engineering graduates \n",
    "    and a lack of well-educated engineers.\n",
    "\"\"\"\n",
    ")\n",
    "print(answer)"
   ]
  },
  {
   "cell_type": "markdown",
   "metadata": {},
   "source": [
    "## 翻译\n",
    "可以指定结果的 max_length 或 min_length"
   ]
  },
  {
   "cell_type": "code",
   "execution_count": null,
   "metadata": {},
   "outputs": [],
   "source": [
    "translator = pipeline(\n",
    "    \"translation\", model=\"Helsinki-NLP/opus-mt-fr-en\")  # 法语翻译英语\n",
    "# max_length或min_length控制翻译长短\n",
    "answer = translator(\"Ce cours est produit par Hugging Face.\")\n",
    "print(answer)"
   ]
  },
  {
   "cell_type": "markdown",
   "metadata": {},
   "source": [
    "## 偏见与局限\n",
    "使用的原始模型的时候，很容易生成性别歧视、种族主义或恐同内容。这种固有偏见不会随着微调模型而使消失。"
   ]
  },
  {
   "cell_type": "code",
   "execution_count": null,
   "metadata": {},
   "outputs": [],
   "source": [
    "unmasker = pipeline(\"fill-mask\", model=\"bert-base-uncased\")\n",
    "result = unmasker(\"This man works as a [MASK].\")\n",
    "print([r[\"token_str\"] for r in result])\n",
    "\n",
    "result = unmasker(\"This woman works as a [MASK].\")\n",
    "print([r[\"token_str\"] for r in result])"
   ]
  },
  {
   "cell_type": "markdown",
   "metadata": {},
   "source": [
    "## datasets使用"
   ]
  },
  {
   "cell_type": "code",
   "execution_count": null,
   "metadata": {},
   "outputs": [],
   "source": [
    "from datasets import list_metrics, load_metric\n",
    "from pprint import pprint\n",
    "from datasets import list_datasets, load_dataset\n",
    "datasets_list = list_datasets()  # 全部数据集列表\n",
    "# print(len(datasets_list))\n",
    "\n",
    "# 加载SST数据集（训练数据部分）\n",
    "dataset = load_dataset('sst', split='train')\n",
    "# print(len(dataset))\n",
    "\n",
    "# 打印以字典对象存储的样本，字典中存储标签、原始句子、标记序列、句法分析树\n",
    "# pprint(dataset[0])\n",
    "\n",
    "# datasets提供的评价方法\n",
    "metrics_list = list_metrics()  # 全部评价方法\n",
    "# print(metrics_list)\n",
    "\n",
    "# 加载准确率评价方法\n",
    "accuracy_metric = load_metric('accuracy')\n",
    "# references真是结果与predictions预测结果计算准确率\n",
    "results = accuracy_metric.compute(references=[0, 1, 0], predictions=[1, 1, 0])\n",
    "print(results)"
   ]
  }
 ],
 "metadata": {
  "kernelspec": {
   "display_name": "huggingface10",
   "language": "python",
   "name": "python3"
  },
  "language_info": {
   "codemirror_mode": {
    "name": "ipython",
    "version": 3
   },
   "file_extension": ".py",
   "mimetype": "text/x-python",
   "name": "python",
   "nbconvert_exporter": "python",
   "pygments_lexer": "ipython3",
   "version": "3.10.13"
  }
 },
 "nbformat": 4,
 "nbformat_minor": 2
}
