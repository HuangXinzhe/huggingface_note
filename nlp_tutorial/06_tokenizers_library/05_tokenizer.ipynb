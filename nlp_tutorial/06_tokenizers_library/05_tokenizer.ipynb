{
 "cells": [
  {
   "cell_type": "markdown",
   "metadata": {},
   "source": [
    "这里介绍了BPE、WordPiece、SentencePiece三种分词方法，并介绍了从头开始训练这三种分词的方法。\n"
   ]
  }
 ],
 "metadata": {
  "language_info": {
   "name": "python"
  }
 },
 "nbformat": 4,
 "nbformat_minor": 2
}
