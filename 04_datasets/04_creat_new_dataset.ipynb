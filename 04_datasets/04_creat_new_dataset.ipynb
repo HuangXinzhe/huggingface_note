{
 "cells": [
  {
   "cell_type": "markdown",
   "id": "352a5796-a369-41f1-8eff-e6b556edeb62",
   "metadata": {},
   "source": [
    "# 创建GitHub问题语料库"
   ]
  },
  {
   "cell_type": "markdown",
   "id": "cc8817d5-094e-4cef-b08e-22528091dbfa",
   "metadata": {},
   "source": [
    "## 1、获取数据"
   ]
  },
  {
   "cell_type": "markdown",
   "id": "6e4c7e58-483b-4aeb-92f3-b4e0724f29a2",
   "metadata": {},
   "source": [
    "### Python中发出HTTP请求的标准方式，通过requests库"
   ]
  },
  {
   "cell_type": "code",
   "execution_count": 1,
   "id": "9a587e2f-ffa2-40fe-9ed7-e333a004a870",
   "metadata": {},
   "outputs": [],
   "source": [
    "import requests\n",
    "\n",
    "url = \"https://api.github.com/repos/huggingface/datasets/issues?page=1&per_page=1\"\n",
    "response = requests.get(url)"
   ]
  },
  {
   "cell_type": "markdown",
   "id": "4379fa5f-b495-420f-b262-57802e66379a",
   "metadata": {},
   "source": [
    "### 该对象包含许多有关请求的有用信息，包括 HTTP 状态代码"
   ]
  },
  {
   "cell_type": "code",
   "execution_count": 2,
   "id": "da708e61-9793-4c13-9262-c46bf14dc40d",
   "metadata": {},
   "outputs": [
    {
     "data": {
      "text/plain": [
       "200"
      ]
     },
     "execution_count": 2,
     "metadata": {},
     "output_type": "execute_result"
    }
   ],
   "source": [
    "response.status_code"
   ]
  },
  {
   "cell_type": "markdown",
   "id": "aac933b0-4500-48a5-935e-f8f4b85d5d1b",
   "metadata": {},
   "source": [
    "### HTTP状态代码列表\n",
    "https://en.wikipedia.org/wiki/List_of_HTTP_status_codes"
   ]
  },
  {
   "cell_type": "code",
   "execution_count": 3,
   "id": "457820a6-9fd6-43a2-8154-e054aa5d3cc3",
   "metadata": {},
   "outputs": [
    {
     "data": {
      "text/plain": [
       "[{'url': 'https://api.github.com/repos/huggingface/datasets/issues/5814',\n",
       "  'repository_url': 'https://api.github.com/repos/huggingface/datasets',\n",
       "  'labels_url': 'https://api.github.com/repos/huggingface/datasets/issues/5814/labels{/name}',\n",
       "  'comments_url': 'https://api.github.com/repos/huggingface/datasets/issues/5814/comments',\n",
       "  'events_url': 'https://api.github.com/repos/huggingface/datasets/issues/5814/events',\n",
       "  'html_url': 'https://github.com/huggingface/datasets/pull/5814',\n",
       "  'id': 1693216778,\n",
       "  'node_id': 'PR_kwDODunzps5PoOQ9',\n",
       "  'number': 5814,\n",
       "  'title': 'Repro windows crash',\n",
       "  'user': {'login': 'maddiedawson',\n",
       "   'id': 106995444,\n",
       "   'node_id': 'U_kgDOBmCe9A',\n",
       "   'avatar_url': 'https://avatars.githubusercontent.com/u/106995444?v=4',\n",
       "   'gravatar_id': '',\n",
       "   'url': 'https://api.github.com/users/maddiedawson',\n",
       "   'html_url': 'https://github.com/maddiedawson',\n",
       "   'followers_url': 'https://api.github.com/users/maddiedawson/followers',\n",
       "   'following_url': 'https://api.github.com/users/maddiedawson/following{/other_user}',\n",
       "   'gists_url': 'https://api.github.com/users/maddiedawson/gists{/gist_id}',\n",
       "   'starred_url': 'https://api.github.com/users/maddiedawson/starred{/owner}{/repo}',\n",
       "   'subscriptions_url': 'https://api.github.com/users/maddiedawson/subscriptions',\n",
       "   'organizations_url': 'https://api.github.com/users/maddiedawson/orgs',\n",
       "   'repos_url': 'https://api.github.com/users/maddiedawson/repos',\n",
       "   'events_url': 'https://api.github.com/users/maddiedawson/events{/privacy}',\n",
       "   'received_events_url': 'https://api.github.com/users/maddiedawson/received_events',\n",
       "   'type': 'User',\n",
       "   'site_admin': False},\n",
       "  'labels': [],\n",
       "  'state': 'open',\n",
       "  'locked': False,\n",
       "  'assignee': None,\n",
       "  'assignees': [],\n",
       "  'milestone': None,\n",
       "  'comments': 1,\n",
       "  'created_at': '2023-05-02T23:30:18Z',\n",
       "  'updated_at': '2023-05-02T23:47:07Z',\n",
       "  'closed_at': None,\n",
       "  'author_association': 'CONTRIBUTOR',\n",
       "  'active_lock_reason': None,\n",
       "  'draft': False,\n",
       "  'pull_request': {'url': 'https://api.github.com/repos/huggingface/datasets/pulls/5814',\n",
       "   'html_url': 'https://github.com/huggingface/datasets/pull/5814',\n",
       "   'diff_url': 'https://github.com/huggingface/datasets/pull/5814.diff',\n",
       "   'patch_url': 'https://github.com/huggingface/datasets/pull/5814.patch',\n",
       "   'merged_at': None},\n",
       "  'body': None,\n",
       "  'reactions': {'url': 'https://api.github.com/repos/huggingface/datasets/issues/5814/reactions',\n",
       "   'total_count': 0,\n",
       "   '+1': 0,\n",
       "   '-1': 0,\n",
       "   'laugh': 0,\n",
       "   'hooray': 0,\n",
       "   'confused': 0,\n",
       "   'heart': 0,\n",
       "   'rocket': 0,\n",
       "   'eyes': 0},\n",
       "  'timeline_url': 'https://api.github.com/repos/huggingface/datasets/issues/5814/timeline',\n",
       "  'performed_via_github_app': None,\n",
       "  'state_reason': None}]"
      ]
     },
     "execution_count": 3,
     "metadata": {},
     "output_type": "execute_result"
    }
   ],
   "source": [
    "response.json()"
   ]
  },
  {
   "cell_type": "markdown",
   "id": "a433187f-8bd5-469f-a7c1-eb927a389dc2",
   "metadata": {},
   "source": [
    "### GitHub每小时限制60个请求，创建个人访问令牌则可以每小时限制5000个请求"
   ]
  },
  {
   "cell_type": "code",
   "execution_count": null,
   "id": "1afd018a-7b45-4caf-bba3-fa1437e87483",
   "metadata": {},
   "outputs": [],
   "source": [
    "GITHUB_TOKEN = xxx  # Copy your GitHub token here\n",
    "headers = {\"Authorization\": f\"token {GITHUB_TOKEN}\"}"
   ]
  },
  {
   "cell_type": "markdown",
   "id": "cf18abbe-0930-4df2-9ac7-47c33a088b93",
   "metadata": {},
   "source": [
    "### 为防止GITHUB_TOKEN泄露，可以将token存入.env文件，并使用python-dotenv库作为环境变量自动加载该文件"
   ]
  },
  {
   "cell_type": "code",
   "execution_count": 4,
   "id": "679eee9f-3ce9-4f2b-9fc1-b0f0bcbc30e2",
   "metadata": {},
   "outputs": [
    {
     "data": {
      "text/plain": [
       "True"
      ]
     },
     "execution_count": 4,
     "metadata": {},
     "output_type": "execute_result"
    }
   ],
   "source": [
    "from dotenv import load_dotenv\n",
    "\n",
    "load_dotenv(dotenv_path=\"./data/.env\", verbose=True)"
   ]
  },
  {
   "cell_type": "code",
   "execution_count": 7,
   "id": "32e3c842-4c69-43d3-92bd-655b45a9ba13",
   "metadata": {},
   "outputs": [
    {
     "data": {
      "text/plain": [
       "OrderedDict([('TOKEN', 'my_token')])"
      ]
     },
     "execution_count": 7,
     "metadata": {},
     "output_type": "execute_result"
    }
   ],
   "source": [
    "from dotenv import dotenv_values\n",
    "\n",
    "config = dotenv_values(\"./data/.env\")\n",
    "config"
   ]
  },
  {
   "cell_type": "code",
   "execution_count": 8,
   "id": "aeef425c-5015-4436-92be-eb2f9a88d886",
   "metadata": {},
   "outputs": [
    {
     "data": {
      "text/plain": [
       "'my_token'"
      ]
     },
     "execution_count": 8,
     "metadata": {},
     "output_type": "execute_result"
    }
   ],
   "source": [
    "import os\n",
    "GITHUB_TOKEN = os.getenv(\"TOKEN\")\n",
    "GITHUB_TOKEN"
   ]
  },
  {
   "cell_type": "markdown",
   "id": "d4d7775f-0adc-46be-8ff2-9b23b6e635be",
   "metadata": {},
   "source": [
    "### 下载数据\n",
    "    结果存储在repository_name-issues.jsonl，每一行都是一个JSON对象，表示一个问题"
   ]
  },
  {
   "cell_type": "code",
   "execution_count": null,
   "id": "8bf12d1b-4c89-487e-bbc5-6d5ce78bb21e",
   "metadata": {},
   "outputs": [],
   "source": [
    "import time\n",
    "import math\n",
    "from pathlib import Path\n",
    "import pandas as pd\n",
    "from tqdm.notebook import tqdm\n",
    "\n",
    "\n",
    "def fetch_issues(\n",
    "    owner=\"huggingface\",\n",
    "    repo=\"datasets\",\n",
    "    num_issues=10_000,\n",
    "    rate_limit=5_000,\n",
    "    issues_path=Path(\".\"),\n",
    "):\n",
    "    if not issues_path.is_dir():\n",
    "        issues_path.mkdir(exist_ok=True)\n",
    "\n",
    "    batch = []\n",
    "    all_issues = []\n",
    "    per_page = 100  # Number of issues to return per page\n",
    "    num_pages = math.ceil(num_issues / per_page)\n",
    "    base_url = \"https://api.github.com/repos\"\n",
    "\n",
    "    for page in tqdm(range(num_pages)):\n",
    "        # Query with state=all to get both open and closed issues\n",
    "        query = f\"issues?page={page}&per_page={per_page}&state=all\"\n",
    "        issues = requests.get(f\"{base_url}/{owner}/{repo}/{query}\", headers=headers)\n",
    "        batch.extend(issues.json())\n",
    "\n",
    "        if len(batch) > rate_limit and len(all_issues) < num_issues:\n",
    "            all_issues.extend(batch)\n",
    "            batch = []  # Flush batch for next time period\n",
    "            print(f\"Reached GitHub rate limit. Sleeping for one hour ...\")\n",
    "            time.sleep(60 * 60 + 1)\n",
    "\n",
    "    all_issues.extend(batch)\n",
    "    df = pd.DataFrame.from_records(all_issues)\n",
    "    df.to_json(f\"{issues_path}/{repo}-issues.jsonl\", orient=\"records\", lines=True)\n",
    "    print(\n",
    "        f\"Downloaded all the issues for {repo}! Dataset stored at {issues_path}/{repo}-issues.jsonl\"\n",
    "    )"
   ]
  },
  {
   "cell_type": "code",
   "execution_count": null,
   "id": "f1050b31-3fc9-46a7-ae75-67ea79574429",
   "metadata": {},
   "outputs": [],
   "source": [
    "# Depending on your internet connection, this can take several minutes to run...\n",
    "fetch_issues()"
   ]
  },
  {
   "cell_type": "code",
   "execution_count": null,
   "id": "beb696ff-4fb1-4446-97cf-10746698a246",
   "metadata": {},
   "outputs": [],
   "source": [
    "issues_dataset = load_dataset(\"json\", data_files=\"datasets-issues.jsonl\", split=\"train\")\n",
    "issues_dataset"
   ]
  },
  {
   "cell_type": "code",
   "execution_count": null,
   "id": "d2fe1f2f-e654-4fe4-8965-46a764e208a9",
   "metadata": {},
   "outputs": [],
   "source": [
    "\"\"\"\n",
    "Dataset({\n",
    "    features: ['url', 'repository_url', 'labels_url', 'comments_url', 'events_url', 'html_url', 'id', 'node_id', 'number', 'title', 'user', 'labels', 'state', 'locked', 'assignee', 'assignees', 'milestone', 'comments', 'created_at', 'updated_at', 'closed_at', 'author_association', 'active_lock_reason', 'pull_request', 'body', 'timeline_url', 'performed_via_github_app'],\n",
    "    num_rows: 3019\n",
    "})\n",
    "\"\"\""
   ]
  },
  {
   "cell_type": "markdown",
   "id": "4001a412-e878-4490-af52-3611765ee33d",
   "metadata": {},
   "source": [
    "## 2、清理数据"
   ]
  },
  {
   "cell_type": "markdown",
   "id": "85531f6b-c6e8-4aa4-9bca-f46aa8af7062",
   "metadata": {},
   "source": [
    "### pull请求也是问题，pull_request可以区分问题和pull请求"
   ]
  },
  {
   "cell_type": "code",
   "execution_count": null,
   "id": "aa7b484e-7c9c-484c-beb2-20d17988291a",
   "metadata": {},
   "outputs": [],
   "source": [
    "sample = issues_dataset.shuffle(seed=666).select(range(3))\n",
    "\n",
    "# Print out the URL and pull request entries\n",
    "for url, pr in zip(sample[\"html_url\"], sample[\"pull_request\"]):\n",
    "    print(f\">> URL: {url}\")\n",
    "    print(f\">> Pull request: {pr}\\n\")"
   ]
  },
  {
   "cell_type": "code",
   "execution_count": null,
   "id": "c9449afc-24ad-45e9-9ac9-90786d692cba",
   "metadata": {},
   "outputs": [],
   "source": [
    "\"\"\"\n",
    ">> URL: https://github.com/huggingface/datasets/pull/850\n",
    ">> Pull request: {'url': 'https://api.github.com/repos/huggingface/datasets/pulls/850', 'html_url': 'https://github.com/huggingface/datasets/pull/850', 'diff_url': 'https://github.com/huggingface/datasets/pull/850.diff', 'patch_url': 'https://github.com/huggingface/datasets/pull/850.patch'}\n",
    "\n",
    ">> URL: https://github.com/huggingface/datasets/issues/2773\n",
    ">> Pull request: None\n",
    "\n",
    ">> URL: https://github.com/huggingface/datasets/pull/783\n",
    ">> Pull request: {'url': 'https://api.github.com/repos/huggingface/datasets/pulls/783', 'html_url': 'https://github.com/huggingface/datasets/pull/783', 'diff_url': 'https://github.com/huggingface/datasets/pull/783.diff', 'patch_url': 'https://github.com/huggingface/datasets/pull/783.patch'}\n",
    "\"\"\""
   ]
  },
  {
   "cell_type": "markdown",
   "id": "725b8f20-d45e-444d-95b5-6dfe20994308",
   "metadata": {},
   "source": [
    "### 通过Pull request区分问题与pull请求"
   ]
  },
  {
   "cell_type": "code",
   "execution_count": null,
   "id": "6385acbe-2a8b-4edb-bdc1-5256cf43ba50",
   "metadata": {},
   "outputs": [],
   "source": [
    "# 创建一个新的列is_pull_request，用于检查pull_request字段是否为Nothing\n",
    "issues_dataset = issues_dataset.map(\n",
    "    lambda x: {\"is_pull_request\": False if x[\"pull_request\"] is None else True}\n",
    ")"
   ]
  },
  {
   "cell_type": "markdown",
   "id": "aaf7bc1a-1398-407f-9bba-b90f459ea42e",
   "metadata": {},
   "source": [
    "1. Dataset.filter()函数对于过滤掉拉请求和打开问题非常有用\n",
    "2. Dataset.set_format()函数将数据集转换为DataFrame，可以轻松地操作create_at和close_at时间戳。或者加分，计算关闭请求所需的平均时间。"
   ]
  },
  {
   "cell_type": "markdown",
   "id": "fadc7fa7-27eb-4f93-9935-5a0a0ec4b228",
   "metadata": {},
   "source": [
    "### 虽然我们可以通过删除或重命名一些列来进一步清理数据集，但在这个阶段可能保持数据集的原始状态会更好"
   ]
  },
  {
   "cell_type": "markdown",
   "id": "bc054f5f-5c2b-4ad9-86ca-cd3c2afc81ee",
   "metadata": {},
   "source": [
    "## 3、增强数据集"
   ]
  },
  {
   "cell_type": "markdown",
   "id": "45136cef-0cf7-4600-971b-ae4ae953ca10",
   "metadata": {},
   "source": [
    "### 增加注释以丰富信息来源\n",
    "    GitHub REST API提供了一个Comments端点，该端点返回与一个问题号相关联的所有注释。"
   ]
  },
  {
   "cell_type": "code",
   "execution_count": null,
   "id": "88cd0da5-3a6e-4909-9222-e4b5300aed7a",
   "metadata": {},
   "outputs": [],
   "source": [
    "issue_number = 2792\n",
    "url = f\"https://api.github.com/repos/huggingface/datasets/issues/{issue_number}/comments\"\n",
    "response = requests.get(url, headers=headers)\n",
    "response.json()"
   ]
  },
  {
   "cell_type": "code",
   "execution_count": null,
   "id": "e03049fd-2add-4b1d-8f8c-72b2cce638c4",
   "metadata": {},
   "outputs": [],
   "source": [
    "\"\"\"\n",
    "[{'url': 'https://api.github.com/repos/huggingface/datasets/issues/comments/897594128',\n",
    "  'html_url': 'https://github.com/huggingface/datasets/pull/2792#issuecomment-897594128',\n",
    "  'issue_url': 'https://api.github.com/repos/huggingface/datasets/issues/2792',\n",
    "  'id': 897594128,\n",
    "  'node_id': 'IC_kwDODunzps41gDMQ',\n",
    "  'user': {'login': 'bhavitvyamalik',\n",
    "   'id': 19718818,\n",
    "   'node_id': 'MDQ6VXNlcjE5NzE4ODE4',\n",
    "   'avatar_url': 'https://avatars.githubusercontent.com/u/19718818?v=4',\n",
    "   'gravatar_id': '',\n",
    "   'url': 'https://api.github.com/users/bhavitvyamalik',\n",
    "   'html_url': 'https://github.com/bhavitvyamalik',\n",
    "   'followers_url': 'https://api.github.com/users/bhavitvyamalik/followers',\n",
    "   'following_url': 'https://api.github.com/users/bhavitvyamalik/following{/other_user}',\n",
    "   'gists_url': 'https://api.github.com/users/bhavitvyamalik/gists{/gist_id}',\n",
    "   'starred_url': 'https://api.github.com/users/bhavitvyamalik/starred{/owner}{/repo}',\n",
    "   'subscriptions_url': 'https://api.github.com/users/bhavitvyamalik/subscriptions',\n",
    "   'organizations_url': 'https://api.github.com/users/bhavitvyamalik/orgs',\n",
    "   'repos_url': 'https://api.github.com/users/bhavitvyamalik/repos',\n",
    "   'events_url': 'https://api.github.com/users/bhavitvyamalik/events{/privacy}',\n",
    "   'received_events_url': 'https://api.github.com/users/bhavitvyamalik/received_events',\n",
    "   'type': 'User',\n",
    "   'site_admin': False},\n",
    "  'created_at': '2021-08-12T12:21:52Z',\n",
    "  'updated_at': '2021-08-12T12:31:17Z',\n",
    "  'author_association': 'CONTRIBUTOR',\n",
    "  'body': \"@albertvillanova my tests are failing here:\\r\\n```\\r\\ndataset_name = 'gooaq'\\r\\n\\r\\n    def test_load_dataset(self, dataset_name):\\r\\n        configs = self.dataset_tester.load_all_configs(dataset_name, is_local=True)[:1]\\r\\n>       self.dataset_tester.check_load_dataset(dataset_name, configs, is_local=True, use_local_dummy_data=True)\\r\\n\\r\\ntests/test_dataset_common.py:234: \\r\\n_ _ _ _ _ _ _ _ _ _ _ _ _ _ _ _ _ _ _ _ _ _ _ _ _ _ _ _ _ _ _ _ _ _ _ _ _ _ _ _ \\r\\ntests/test_dataset_common.py:187: in check_load_dataset\\r\\n    self.parent.assertTrue(len(dataset[split]) > 0)\\r\\nE   AssertionError: False is not true\\r\\n```\\r\\nWhen I try loading dataset on local machine it works fine. Any suggestions on how can I avoid this error?\",\n",
    "  'performed_via_github_app': None}]\n",
    "\"\"\""
   ]
  },
  {
   "cell_type": "markdown",
   "id": "87dd6010-e574-4464-a1c1-d8948efe8abf",
   "metadata": {},
   "source": [
    "### 注释在body字段中"
   ]
  },
  {
   "cell_type": "code",
   "execution_count": null,
   "id": "ca8698c4-2aa0-4cb9-a23b-24862e30aef6",
   "metadata": {},
   "outputs": [],
   "source": [
    "def get_comments(issue_number):\n",
    "    url = f\"https://api.github.com/repos/huggingface/datasets/issues/{issue_number}/comments\"\n",
    "    response = requests.get(url, headers=headers)\n",
    "    return [r[\"body\"] for r in response.json()]\n",
    "\n",
    "\n",
    "# Test our function works as expected\n",
    "get_comments(2792)"
   ]
  },
  {
   "cell_type": "code",
   "execution_count": null,
   "id": "6ab91fb6-46ea-42da-8e81-35463ece892c",
   "metadata": {},
   "outputs": [],
   "source": [
    "\"\"\"\n",
    "[\"@albertvillanova my tests are failing here:\\r\\n```\\r\\ndataset_name = 'gooaq'\\r\\n\\r\\n    def test_load_dataset(self, dataset_name):\\r\\n        configs = self.dataset_tester.load_all_configs(dataset_name, is_local=True)[:1]\\r\\n>       self.dataset_tester.check_load_dataset(dataset_name, configs, is_local=True, use_local_dummy_data=True)\\r\\n\\r\\ntests/test_dataset_common.py:234: \\r\\n_ _ _ _ _ _ _ _ _ _ _ _ _ _ _ _ _ _ _ _ _ _ _ _ _ _ _ _ _ _ _ _ _ _ _ _ _ _ _ _ \\r\\ntests/test_dataset_common.py:187: in check_load_dataset\\r\\n    self.parent.assertTrue(len(dataset[split]) > 0)\\r\\nE   AssertionError: False is not true\\r\\n```\\r\\nWhen I try loading dataset on local machine it works fine. Any suggestions on how can I avoid this error?\"]\n",
    "\"\"\""
   ]
  },
  {
   "cell_type": "markdown",
   "id": "79ed0c86-a356-490d-a97a-d02499d67d7f",
   "metadata": {},
   "source": [
    "### 为每个问题添加一个新的注释列"
   ]
  },
  {
   "cell_type": "code",
   "execution_count": null,
   "id": "fd6ab9ed-f949-4354-91e4-29322800e6f7",
   "metadata": {},
   "outputs": [],
   "source": [
    "# Depending on your internet connection, this can take a few minutes...\n",
    "issues_with_comments_dataset = issues_dataset.map(\n",
    "    lambda x: {\"comments\": get_comments(x[\"number\"])}\n",
    ")"
   ]
  },
  {
   "cell_type": "markdown",
   "id": "2c581489-35a3-4070-90eb-bdccd0daea27",
   "metadata": {},
   "source": [
    "## 4、将数据集上传到Hugging Face Hub"
   ]
  },
  {
   "cell_type": "markdown",
   "id": "cbce1a6a-7ee7-418f-aa68-2af11c481786",
   "metadata": {},
   "source": [
    "### 登录Hugging Face Hub"
   ]
  },
  {
   "cell_type": "code",
   "execution_count": null,
   "id": "72ae0d69-f499-49cc-9b4b-1c8f881d38d7",
   "metadata": {},
   "outputs": [],
   "source": [
    "from huggingface_hub import notebook_login\n",
    "\n",
    "notebook_login()\n",
    "# Hugging Face Hub登录，输入用户名和密码，API token存储在~/.huggingface/token\n",
    "# 终端中运行   huggingface-cli login"
   ]
  },
  {
   "cell_type": "markdown",
   "id": "2904191d-9e9d-49f3-82e9-907f6142f196",
   "metadata": {},
   "source": [
    "### 上传数据集"
   ]
  },
  {
   "cell_type": "code",
   "execution_count": null,
   "id": "12401bdc-bd88-4ab1-b0e4-b3a902315100",
   "metadata": {},
   "outputs": [],
   "source": [
    "issues_with_comments_dataset.push_to_hub(\"github-issues\")"
   ]
  },
  {
   "cell_type": "markdown",
   "id": "207d02a1-9077-42f3-a056-6e8315c97e3a",
   "metadata": {},
   "source": [
    "### 数据集下载"
   ]
  },
  {
   "cell_type": "code",
   "execution_count": null,
   "id": "673192d3-1d1a-422d-8388-b2ed7359eb12",
   "metadata": {},
   "outputs": [],
   "source": [
    "remote_dataset = load_dataset(\"lewtun/github-issues\", split=\"train\")\n",
    "remote_dataset"
   ]
  },
  {
   "cell_type": "code",
   "execution_count": null,
   "id": "ea795aa1-3888-4791-a703-c0b95ad1a0b2",
   "metadata": {},
   "outputs": [],
   "source": [
    "\"\"\"\n",
    "Dataset({\n",
    "    features: ['url', 'repository_url', 'labels_url', 'comments_url', 'events_url', 'html_url', 'id', 'node_id', 'number', 'title', 'user', 'labels', 'state', 'locked', 'assignee', 'assignees', 'milestone', 'comments', 'created_at', 'updated_at', 'closed_at', 'author_association', 'active_lock_reason', 'pull_request', 'body', 'performed_via_github_app', 'is_pull_request'],\n",
    "    num_rows: 2855\n",
    "})\n",
    "\"\"\""
   ]
  },
  {
   "cell_type": "markdown",
   "id": "729789b5-b3d6-4da1-9a5f-955fa6ca0887",
   "metadata": {},
   "source": [
    "## 5、创建数据集卡"
   ]
  },
  {
   "cell_type": "markdown",
   "id": "04e3ee3a-203b-4f15-bc69-c08dd8ebdab6",
   "metadata": {},
   "source": [
    "1. 创建YAML格式的元数据标记，用于各种搜素功能，便于查找。需要克隆https://huggingface.co/spaces/huggingface/datasets-tagging 到本地运行\n",
    "2. 创建数据卡指南  https://github.com/huggingface/datasets/blob/main/templates/README_guide.md\n",
    "3. 创建README.md"
   ]
  },
  {
   "cell_type": "code",
   "execution_count": null,
   "id": "b55cb72f-e406-404f-b0b6-b63ae89b1a8f",
   "metadata": {},
   "outputs": [],
   "source": []
  }
 ],
 "metadata": {
  "kernelspec": {
   "display_name": "Python 3 (ipykernel)",
   "language": "python",
   "name": "python3"
  },
  "language_info": {
   "codemirror_mode": {
    "name": "ipython",
    "version": 3
   },
   "file_extension": ".py",
   "mimetype": "text/x-python",
   "name": "python",
   "nbconvert_exporter": "python",
   "pygments_lexer": "ipython3",
   "version": "3.9.12"
  }
 },
 "nbformat": 4,
 "nbformat_minor": 5
}
