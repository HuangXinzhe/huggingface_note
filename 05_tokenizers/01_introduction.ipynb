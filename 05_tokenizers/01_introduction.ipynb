{
 "cells": [
  {
   "cell_type": "markdown",
   "id": "b52f34fd-82ca-4aef-8a5d-b386e1eca11b",
   "metadata": {},
   "source": [
    "### 从头训练一个模型，在没有直接语料库是，使用来自另一个领域的语料库上训练的tokenizer通常是次优的"
   ]
  },
  {
   "cell_type": "code",
   "execution_count": null,
   "id": "70b392bc-95f6-4c9e-ac21-7bd9b325c14c",
   "metadata": {},
   "outputs": [],
   "source": []
  }
 ],
 "metadata": {
  "kernelspec": {
   "display_name": "Python 3 (ipykernel)",
   "language": "python",
   "name": "python3"
  },
  "language_info": {
   "codemirror_mode": {
    "name": "ipython",
    "version": 3
   },
   "file_extension": ".py",
   "mimetype": "text/x-python",
   "name": "python",
   "nbconvert_exporter": "python",
   "pygments_lexer": "ipython3",
   "version": "3.9.12"
  }
 },
 "nbformat": 4,
 "nbformat_minor": 5
}
